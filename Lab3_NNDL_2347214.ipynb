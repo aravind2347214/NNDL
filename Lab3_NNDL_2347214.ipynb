{
  "nbformat": 4,
  "nbformat_minor": 0,
  "metadata": {
    "colab": {
      "provenance": [],
      "gpuType": "T4"
    },
    "kernelspec": {
      "name": "python3",
      "display_name": "Python 3"
    },
    "language_info": {
      "name": "python"
    },
    "accelerator": "GPU"
  },
  "cells": [
    {
      "cell_type": "code",
      "execution_count": 1,
      "metadata": {
        "colab": {
          "base_uri": "https://localhost:8080/"
        },
        "id": "7WnnI0Nqb-q8",
        "outputId": "a833289d-0779-4711-ae16-adf39a5697d0"
      },
      "outputs": [
        {
          "output_type": "stream",
          "name": "stdout",
          "text": [
            "Downloading data from https://www.cs.toronto.edu/~kriz/cifar-10-python.tar.gz\n",
            "\u001b[1m170498071/170498071\u001b[0m \u001b[32m━━━━━━━━━━━━━━━━━━━━\u001b[0m\u001b[37m\u001b[0m \u001b[1m4s\u001b[0m 0us/step\n"
          ]
        }
      ],
      "source": [
        "import tensorflow as tf\n",
        "from tensorflow.keras.datasets import cifar10\n",
        "from tensorflow.keras.utils import to_categorical\n",
        "from tensorflow.keras.preprocessing.image import ImageDataGenerator\n",
        "\n",
        "# Load the CIFAR-10 dataset\n",
        "(x_train, y_train), (x_test, y_test) = cifar10.load_data()\n",
        "\n",
        "# 1. Normalize pixel values to range between 0 and 1\n",
        "x_train = x_train.astype('float32') / 255.0\n",
        "x_test = x_test.astype('float32') / 255.0\n",
        "\n",
        "# 2. Convert class labels into one-hot encoded format\n",
        "y_train = to_categorical(y_train, 10)\n",
        "y_test = to_categorical(y_test, 10)\n",
        "\n",
        "# 3. Split dataset (already done; 50,000 for training, 10,000 for testing)\n",
        "# CIFAR-10 is already split into 50,000 training and 10,000 test images.\n",
        "\n",
        "# 4. Data augmentation (Optional)\n",
        "datagen = ImageDataGenerator(\n",
        "    rotation_range=15,    # Random rotations\n",
        "    width_shift_range=0.1,  # Random horizontal shifts\n",
        "    height_shift_range=0.1,  # Random vertical shifts\n",
        "    horizontal_flip=True    # Random horizontal flips\n",
        ")\n",
        "\n",
        "# Fit the generator on the training data\n",
        "datagen.fit(x_train)\n",
        "\n",
        "# To use the augmented data for training:\n",
        "# model.fit(datagen.flow(x_train, y_train, batch_size=64), epochs=..., validation_data=(x_test, y_test))\n"
      ]
    },
    {
      "cell_type": "code",
      "source": [
        "import tensorflow as tf\n",
        "from tensorflow.keras import layers, models\n",
        "\n",
        "# Define the model architecture\n",
        "model = models.Sequential()\n",
        "\n",
        "# Input layer: The input shape matches the 32x32x3 dimensions of CIFAR-10 images\n",
        "model.add(layers.InputLayer(input_shape=(32, 32, 3)))\n",
        "\n",
        "# 1st Convolutional Layer: 32 filters, 3x3 kernel, ReLU activation\n",
        "model.add(layers.Conv2D(32, (3, 3), activation='relu', padding='same'))\n",
        "model.add(layers.MaxPooling2D((2, 2)))  # Max pooling layer\n",
        "\n",
        "# 2nd Convolutional Layer: 64 filters, 3x3 kernel, ReLU activation\n",
        "model.add(layers.Conv2D(64, (3, 3), activation='relu', padding='same'))\n",
        "model.add(layers.MaxPooling2D((2, 2)))  # Max pooling layer\n",
        "\n",
        "# 3rd Convolutional Layer: 128 filters, 3x3 kernel, ReLU activation\n",
        "model.add(layers.Conv2D(128, (3, 3), activation='relu', padding='same'))\n",
        "model.add(layers.MaxPooling2D((2, 2)))  # Max pooling layer\n",
        "\n",
        "# Flatten the output from convolutional layers\n",
        "model.add(layers.Flatten())\n",
        "\n",
        "# Fully Connected Layer (Dense layer): 512 neurons, ReLU activation\n",
        "model.add(layers.Dense(512, activation='relu'))\n",
        "\n",
        "# Output Layer: 10 output neurons for 10 classes with softmax activation\n",
        "model.add(layers.Dense(10, activation='softmax'))\n",
        "\n",
        "# Compile the model\n",
        "model.compile(optimizer='adam', loss='categorical_crossentropy', metrics=['accuracy'])\n",
        "\n",
        "# Model summary\n",
        "model.summary()\n"
      ],
      "metadata": {
        "colab": {
          "base_uri": "https://localhost:8080/",
          "height": 452
        },
        "id": "n5uTRYAdd37K",
        "outputId": "ab616899-bdaf-4f1b-bc43-1a9939f7fa51"
      },
      "execution_count": 2,
      "outputs": [
        {
          "output_type": "stream",
          "name": "stderr",
          "text": [
            "/usr/local/lib/python3.10/dist-packages/keras/src/layers/core/input_layer.py:26: UserWarning: Argument `input_shape` is deprecated. Use `shape` instead.\n",
            "  warnings.warn(\n"
          ]
        },
        {
          "output_type": "display_data",
          "data": {
            "text/plain": [
              "\u001b[1mModel: \"sequential\"\u001b[0m\n"
            ],
            "text/html": [
              "<pre style=\"white-space:pre;overflow-x:auto;line-height:normal;font-family:Menlo,'DejaVu Sans Mono',consolas,'Courier New',monospace\"><span style=\"font-weight: bold\">Model: \"sequential\"</span>\n",
              "</pre>\n"
            ]
          },
          "metadata": {}
        },
        {
          "output_type": "display_data",
          "data": {
            "text/plain": [
              "┏━━━━━━━━━━━━━━━━━━━━━━━━━━━━━━━━━━━━━━┳━━━━━━━━━━━━━━━━━━━━━━━━━━━━━┳━━━━━━━━━━━━━━━━━┓\n",
              "┃\u001b[1m \u001b[0m\u001b[1mLayer (type)                        \u001b[0m\u001b[1m \u001b[0m┃\u001b[1m \u001b[0m\u001b[1mOutput Shape               \u001b[0m\u001b[1m \u001b[0m┃\u001b[1m \u001b[0m\u001b[1m        Param #\u001b[0m\u001b[1m \u001b[0m┃\n",
              "┡━━━━━━━━━━━━━━━━━━━━━━━━━━━━━━━━━━━━━━╇━━━━━━━━━━━━━━━━━━━━━━━━━━━━━╇━━━━━━━━━━━━━━━━━┩\n",
              "│ conv2d (\u001b[38;5;33mConv2D\u001b[0m)                      │ (\u001b[38;5;45mNone\u001b[0m, \u001b[38;5;34m32\u001b[0m, \u001b[38;5;34m32\u001b[0m, \u001b[38;5;34m32\u001b[0m)          │             \u001b[38;5;34m896\u001b[0m │\n",
              "├──────────────────────────────────────┼─────────────────────────────┼─────────────────┤\n",
              "│ max_pooling2d (\u001b[38;5;33mMaxPooling2D\u001b[0m)         │ (\u001b[38;5;45mNone\u001b[0m, \u001b[38;5;34m16\u001b[0m, \u001b[38;5;34m16\u001b[0m, \u001b[38;5;34m32\u001b[0m)          │               \u001b[38;5;34m0\u001b[0m │\n",
              "├──────────────────────────────────────┼─────────────────────────────┼─────────────────┤\n",
              "│ conv2d_1 (\u001b[38;5;33mConv2D\u001b[0m)                    │ (\u001b[38;5;45mNone\u001b[0m, \u001b[38;5;34m16\u001b[0m, \u001b[38;5;34m16\u001b[0m, \u001b[38;5;34m64\u001b[0m)          │          \u001b[38;5;34m18,496\u001b[0m │\n",
              "├──────────────────────────────────────┼─────────────────────────────┼─────────────────┤\n",
              "│ max_pooling2d_1 (\u001b[38;5;33mMaxPooling2D\u001b[0m)       │ (\u001b[38;5;45mNone\u001b[0m, \u001b[38;5;34m8\u001b[0m, \u001b[38;5;34m8\u001b[0m, \u001b[38;5;34m64\u001b[0m)            │               \u001b[38;5;34m0\u001b[0m │\n",
              "├──────────────────────────────────────┼─────────────────────────────┼─────────────────┤\n",
              "│ conv2d_2 (\u001b[38;5;33mConv2D\u001b[0m)                    │ (\u001b[38;5;45mNone\u001b[0m, \u001b[38;5;34m8\u001b[0m, \u001b[38;5;34m8\u001b[0m, \u001b[38;5;34m128\u001b[0m)           │          \u001b[38;5;34m73,856\u001b[0m │\n",
              "├──────────────────────────────────────┼─────────────────────────────┼─────────────────┤\n",
              "│ max_pooling2d_2 (\u001b[38;5;33mMaxPooling2D\u001b[0m)       │ (\u001b[38;5;45mNone\u001b[0m, \u001b[38;5;34m4\u001b[0m, \u001b[38;5;34m4\u001b[0m, \u001b[38;5;34m128\u001b[0m)           │               \u001b[38;5;34m0\u001b[0m │\n",
              "├──────────────────────────────────────┼─────────────────────────────┼─────────────────┤\n",
              "│ flatten (\u001b[38;5;33mFlatten\u001b[0m)                    │ (\u001b[38;5;45mNone\u001b[0m, \u001b[38;5;34m2048\u001b[0m)                │               \u001b[38;5;34m0\u001b[0m │\n",
              "├──────────────────────────────────────┼─────────────────────────────┼─────────────────┤\n",
              "│ dense (\u001b[38;5;33mDense\u001b[0m)                        │ (\u001b[38;5;45mNone\u001b[0m, \u001b[38;5;34m512\u001b[0m)                 │       \u001b[38;5;34m1,049,088\u001b[0m │\n",
              "├──────────────────────────────────────┼─────────────────────────────┼─────────────────┤\n",
              "│ dense_1 (\u001b[38;5;33mDense\u001b[0m)                      │ (\u001b[38;5;45mNone\u001b[0m, \u001b[38;5;34m10\u001b[0m)                  │           \u001b[38;5;34m5,130\u001b[0m │\n",
              "└──────────────────────────────────────┴─────────────────────────────┴─────────────────┘\n"
            ],
            "text/html": [
              "<pre style=\"white-space:pre;overflow-x:auto;line-height:normal;font-family:Menlo,'DejaVu Sans Mono',consolas,'Courier New',monospace\">┏━━━━━━━━━━━━━━━━━━━━━━━━━━━━━━━━━━━━━━┳━━━━━━━━━━━━━━━━━━━━━━━━━━━━━┳━━━━━━━━━━━━━━━━━┓\n",
              "┃<span style=\"font-weight: bold\"> Layer (type)                         </span>┃<span style=\"font-weight: bold\"> Output Shape                </span>┃<span style=\"font-weight: bold\">         Param # </span>┃\n",
              "┡━━━━━━━━━━━━━━━━━━━━━━━━━━━━━━━━━━━━━━╇━━━━━━━━━━━━━━━━━━━━━━━━━━━━━╇━━━━━━━━━━━━━━━━━┩\n",
              "│ conv2d (<span style=\"color: #0087ff; text-decoration-color: #0087ff\">Conv2D</span>)                      │ (<span style=\"color: #00d7ff; text-decoration-color: #00d7ff\">None</span>, <span style=\"color: #00af00; text-decoration-color: #00af00\">32</span>, <span style=\"color: #00af00; text-decoration-color: #00af00\">32</span>, <span style=\"color: #00af00; text-decoration-color: #00af00\">32</span>)          │             <span style=\"color: #00af00; text-decoration-color: #00af00\">896</span> │\n",
              "├──────────────────────────────────────┼─────────────────────────────┼─────────────────┤\n",
              "│ max_pooling2d (<span style=\"color: #0087ff; text-decoration-color: #0087ff\">MaxPooling2D</span>)         │ (<span style=\"color: #00d7ff; text-decoration-color: #00d7ff\">None</span>, <span style=\"color: #00af00; text-decoration-color: #00af00\">16</span>, <span style=\"color: #00af00; text-decoration-color: #00af00\">16</span>, <span style=\"color: #00af00; text-decoration-color: #00af00\">32</span>)          │               <span style=\"color: #00af00; text-decoration-color: #00af00\">0</span> │\n",
              "├──────────────────────────────────────┼─────────────────────────────┼─────────────────┤\n",
              "│ conv2d_1 (<span style=\"color: #0087ff; text-decoration-color: #0087ff\">Conv2D</span>)                    │ (<span style=\"color: #00d7ff; text-decoration-color: #00d7ff\">None</span>, <span style=\"color: #00af00; text-decoration-color: #00af00\">16</span>, <span style=\"color: #00af00; text-decoration-color: #00af00\">16</span>, <span style=\"color: #00af00; text-decoration-color: #00af00\">64</span>)          │          <span style=\"color: #00af00; text-decoration-color: #00af00\">18,496</span> │\n",
              "├──────────────────────────────────────┼─────────────────────────────┼─────────────────┤\n",
              "│ max_pooling2d_1 (<span style=\"color: #0087ff; text-decoration-color: #0087ff\">MaxPooling2D</span>)       │ (<span style=\"color: #00d7ff; text-decoration-color: #00d7ff\">None</span>, <span style=\"color: #00af00; text-decoration-color: #00af00\">8</span>, <span style=\"color: #00af00; text-decoration-color: #00af00\">8</span>, <span style=\"color: #00af00; text-decoration-color: #00af00\">64</span>)            │               <span style=\"color: #00af00; text-decoration-color: #00af00\">0</span> │\n",
              "├──────────────────────────────────────┼─────────────────────────────┼─────────────────┤\n",
              "│ conv2d_2 (<span style=\"color: #0087ff; text-decoration-color: #0087ff\">Conv2D</span>)                    │ (<span style=\"color: #00d7ff; text-decoration-color: #00d7ff\">None</span>, <span style=\"color: #00af00; text-decoration-color: #00af00\">8</span>, <span style=\"color: #00af00; text-decoration-color: #00af00\">8</span>, <span style=\"color: #00af00; text-decoration-color: #00af00\">128</span>)           │          <span style=\"color: #00af00; text-decoration-color: #00af00\">73,856</span> │\n",
              "├──────────────────────────────────────┼─────────────────────────────┼─────────────────┤\n",
              "│ max_pooling2d_2 (<span style=\"color: #0087ff; text-decoration-color: #0087ff\">MaxPooling2D</span>)       │ (<span style=\"color: #00d7ff; text-decoration-color: #00d7ff\">None</span>, <span style=\"color: #00af00; text-decoration-color: #00af00\">4</span>, <span style=\"color: #00af00; text-decoration-color: #00af00\">4</span>, <span style=\"color: #00af00; text-decoration-color: #00af00\">128</span>)           │               <span style=\"color: #00af00; text-decoration-color: #00af00\">0</span> │\n",
              "├──────────────────────────────────────┼─────────────────────────────┼─────────────────┤\n",
              "│ flatten (<span style=\"color: #0087ff; text-decoration-color: #0087ff\">Flatten</span>)                    │ (<span style=\"color: #00d7ff; text-decoration-color: #00d7ff\">None</span>, <span style=\"color: #00af00; text-decoration-color: #00af00\">2048</span>)                │               <span style=\"color: #00af00; text-decoration-color: #00af00\">0</span> │\n",
              "├──────────────────────────────────────┼─────────────────────────────┼─────────────────┤\n",
              "│ dense (<span style=\"color: #0087ff; text-decoration-color: #0087ff\">Dense</span>)                        │ (<span style=\"color: #00d7ff; text-decoration-color: #00d7ff\">None</span>, <span style=\"color: #00af00; text-decoration-color: #00af00\">512</span>)                 │       <span style=\"color: #00af00; text-decoration-color: #00af00\">1,049,088</span> │\n",
              "├──────────────────────────────────────┼─────────────────────────────┼─────────────────┤\n",
              "│ dense_1 (<span style=\"color: #0087ff; text-decoration-color: #0087ff\">Dense</span>)                      │ (<span style=\"color: #00d7ff; text-decoration-color: #00d7ff\">None</span>, <span style=\"color: #00af00; text-decoration-color: #00af00\">10</span>)                  │           <span style=\"color: #00af00; text-decoration-color: #00af00\">5,130</span> │\n",
              "└──────────────────────────────────────┴─────────────────────────────┴─────────────────┘\n",
              "</pre>\n"
            ]
          },
          "metadata": {}
        },
        {
          "output_type": "display_data",
          "data": {
            "text/plain": [
              "\u001b[1m Total params: \u001b[0m\u001b[38;5;34m1,147,466\u001b[0m (4.38 MB)\n"
            ],
            "text/html": [
              "<pre style=\"white-space:pre;overflow-x:auto;line-height:normal;font-family:Menlo,'DejaVu Sans Mono',consolas,'Courier New',monospace\"><span style=\"font-weight: bold\"> Total params: </span><span style=\"color: #00af00; text-decoration-color: #00af00\">1,147,466</span> (4.38 MB)\n",
              "</pre>\n"
            ]
          },
          "metadata": {}
        },
        {
          "output_type": "display_data",
          "data": {
            "text/plain": [
              "\u001b[1m Trainable params: \u001b[0m\u001b[38;5;34m1,147,466\u001b[0m (4.38 MB)\n"
            ],
            "text/html": [
              "<pre style=\"white-space:pre;overflow-x:auto;line-height:normal;font-family:Menlo,'DejaVu Sans Mono',consolas,'Courier New',monospace\"><span style=\"font-weight: bold\"> Trainable params: </span><span style=\"color: #00af00; text-decoration-color: #00af00\">1,147,466</span> (4.38 MB)\n",
              "</pre>\n"
            ]
          },
          "metadata": {}
        },
        {
          "output_type": "display_data",
          "data": {
            "text/plain": [
              "\u001b[1m Non-trainable params: \u001b[0m\u001b[38;5;34m0\u001b[0m (0.00 B)\n"
            ],
            "text/html": [
              "<pre style=\"white-space:pre;overflow-x:auto;line-height:normal;font-family:Menlo,'DejaVu Sans Mono',consolas,'Courier New',monospace\"><span style=\"font-weight: bold\"> Non-trainable params: </span><span style=\"color: #00af00; text-decoration-color: #00af00\">0</span> (0.00 B)\n",
              "</pre>\n"
            ]
          },
          "metadata": {}
        }
      ]
    },
    {
      "cell_type": "markdown",
      "source": [
        "## Question\n",
        "Justify your choice of network architecture, including the number of  layers, types of layers, and the number of neurons/filters in each layer.\n",
        "\n",
        "The input layer accepts images with shape (32, 32, 3) to match the CIFAR-10 image dimensions (32x32 pixels with 3 color channels).\n",
        "\n",
        "Number of Filters: Starting with 32 filters and increasing to 64 and then 128 allows the network to progressively learn more complex features, starting with edges and simple patterns in the first layers and moving to more abstract representations (like textures and object parts) in the deeper layers.\n",
        "Kernel Size: The 3x3 kernel size is standard in image recognition tasks, providing a balance between capturing fine details and maintaining computational efficiency.\n",
        "Activation (ReLU): The ReLU activation function helps introduce non-linearity, which allows the network to model complex patterns while being computationally efficient.\n",
        "MaxPooling: The pooling layers reduce the spatial dimensions of the image (by 2x2), thus reducing the number of parameters and helping to prevent overfitting, while retaining important features.\n",
        "\n",
        "512 Neurons: A fully connected layer with 512 neurons provides a large capacity for learning complex representations of the image data. This size is a trade-off between model complexity and performance.\n"
      ],
      "metadata": {
        "id": "TmOKPQuOeHnY"
      }
    },
    {
      "cell_type": "markdown",
      "source": [
        "# Activation Function\n",
        "\n",
        "## ReLU (Rectified Linear Unit):\n",
        "Formula:\n",
        "f(x)=max(0,x)\n",
        "Why ReLU?:\n",
        "\n",
        "Simplicity: The ReLU function is computationally simple and efficient as it only outputs zero or the input value.\n",
        "Non-Linearity: It introduces non-linearity into the model, which is essential for capturing complex patterns and representations in the data.\n",
        "Avoiding Vanishing Gradients: Unlike the sigmoid and tanh functions, which can lead to the \"vanishing gradient\" problem (where gradients become very small in backpropagation), ReLU helps avoid this by keeping gradients large when the input is positive. This leads to faster training and better convergence.\n",
        "Sparse Activation: ReLU introduces sparsity into the network (many neurons output 0 for negative inputs), making the model more computationally efficient and helping reduce the likelihood of overfitting.\n",
        "\n",
        "### Role during Backpropagation\n",
        "During backpropagation, ReLU allows gradients to pass through for positive inputs (where the derivative is 1) but stops the gradient flow for negative inputs (derivative is 0). This selective gradient propagation helps the model converge faster since it avoids the problem of small gradients for large inputs.\n",
        "\n",
        "\n",
        "## Tanh (Hyperbolic Tangent):\n",
        "Why Tanh?:\n",
        "\n",
        "Centered Output: The tanh function outputs values in the range [-1, 1], making it \"centered\" around zero. This property helps in balancing the data, ensuring that the outputs of the neurons have both positive and negative values. This can lead to faster convergence during backpropagation.\n",
        "Non-Linearity: Like ReLU, tanh is also a non-linear function, which allows the network to learn more complex patterns.\n",
        "Better for Symmetry: Since tanh outputs both negative and positive values, it can help in reducing biases in networks where centered values are needed.\n",
        "\n",
        "### Role in Backpropagation:\n",
        "This derivative is small for extreme values of x, meaning that tanh can suffer from the vanishing gradient problem, but it works well in practice for many applications, especially in deeper layers. The gradient flows effectively for moderate input values (around 0), which helps with effective learning."
      ],
      "metadata": {
        "id": "KHcB7oGae7_L"
      }
    },
    {
      "cell_type": "code",
      "source": [
        "# Compile the model with Adam and Categorical Cross Entropy\n",
        "model.compile(optimizer='adam',\n",
        "              loss='categorical_crossentropy',\n",
        "              metrics=['accuracy'])\n",
        "\n",
        "# Training the model\n",
        "history = model.fit(x_train, y_train, epochs=50, batch_size=64, validation_data=(x_test, y_test))\n"
      ],
      "metadata": {
        "colab": {
          "base_uri": "https://localhost:8080/"
        },
        "id": "eTw8ZXmAgVlg",
        "outputId": "f77bf9ec-3722-4c0f-c059-371822a20f7d"
      },
      "execution_count": 4,
      "outputs": [
        {
          "output_type": "stream",
          "name": "stdout",
          "text": [
            "Epoch 1/50\n",
            "\u001b[1m782/782\u001b[0m \u001b[32m━━━━━━━━━━━━━━━━━━━━\u001b[0m\u001b[37m\u001b[0m \u001b[1m11s\u001b[0m 11ms/step - accuracy: 0.9593 - loss: 0.1162 - val_accuracy: 0.7513 - val_loss: 1.2401\n",
            "Epoch 2/50\n",
            "\u001b[1m782/782\u001b[0m \u001b[32m━━━━━━━━━━━━━━━━━━━━\u001b[0m\u001b[37m\u001b[0m \u001b[1m4s\u001b[0m 4ms/step - accuracy: 0.9702 - loss: 0.0870 - val_accuracy: 0.7544 - val_loss: 1.2726\n",
            "Epoch 3/50\n",
            "\u001b[1m782/782\u001b[0m \u001b[32m━━━━━━━━━━━━━━━━━━━━\u001b[0m\u001b[37m\u001b[0m \u001b[1m3s\u001b[0m 4ms/step - accuracy: 0.9716 - loss: 0.0798 - val_accuracy: 0.7524 - val_loss: 1.3138\n",
            "Epoch 4/50\n",
            "\u001b[1m782/782\u001b[0m \u001b[32m━━━━━━━━━━━━━━━━━━━━\u001b[0m\u001b[37m\u001b[0m \u001b[1m5s\u001b[0m 4ms/step - accuracy: 0.9764 - loss: 0.0681 - val_accuracy: 0.7557 - val_loss: 1.3385\n",
            "Epoch 5/50\n",
            "\u001b[1m782/782\u001b[0m \u001b[32m━━━━━━━━━━━━━━━━━━━━\u001b[0m\u001b[37m\u001b[0m \u001b[1m3s\u001b[0m 4ms/step - accuracy: 0.9805 - loss: 0.0583 - val_accuracy: 0.7450 - val_loss: 1.4436\n",
            "Epoch 6/50\n",
            "\u001b[1m782/782\u001b[0m \u001b[32m━━━━━━━━━━━━━━━━━━━━\u001b[0m\u001b[37m\u001b[0m \u001b[1m6s\u001b[0m 5ms/step - accuracy: 0.9732 - loss: 0.0778 - val_accuracy: 0.7521 - val_loss: 1.5030\n",
            "Epoch 7/50\n",
            "\u001b[1m782/782\u001b[0m \u001b[32m━━━━━━━━━━━━━━━━━━━━\u001b[0m\u001b[37m\u001b[0m \u001b[1m3s\u001b[0m 4ms/step - accuracy: 0.9793 - loss: 0.0627 - val_accuracy: 0.7408 - val_loss: 1.5252\n",
            "Epoch 8/50\n",
            "\u001b[1m782/782\u001b[0m \u001b[32m━━━━━━━━━━━━━━━━━━━━\u001b[0m\u001b[37m\u001b[0m \u001b[1m3s\u001b[0m 4ms/step - accuracy: 0.9817 - loss: 0.0541 - val_accuracy: 0.7456 - val_loss: 1.6497\n",
            "Epoch 9/50\n",
            "\u001b[1m782/782\u001b[0m \u001b[32m━━━━━━━━━━━━━━━━━━━━\u001b[0m\u001b[37m\u001b[0m \u001b[1m6s\u001b[0m 4ms/step - accuracy: 0.9795 - loss: 0.0571 - val_accuracy: 0.7443 - val_loss: 1.7223\n",
            "Epoch 10/50\n",
            "\u001b[1m782/782\u001b[0m \u001b[32m━━━━━━━━━━━━━━━━━━━━\u001b[0m\u001b[37m\u001b[0m \u001b[1m3s\u001b[0m 4ms/step - accuracy: 0.9771 - loss: 0.0644 - val_accuracy: 0.7527 - val_loss: 1.7142\n",
            "Epoch 11/50\n",
            "\u001b[1m782/782\u001b[0m \u001b[32m━━━━━━━━━━━━━━━━━━━━\u001b[0m\u001b[37m\u001b[0m \u001b[1m5s\u001b[0m 4ms/step - accuracy: 0.9857 - loss: 0.0421 - val_accuracy: 0.7548 - val_loss: 1.7406\n",
            "Epoch 12/50\n",
            "\u001b[1m782/782\u001b[0m \u001b[32m━━━━━━━━━━━━━━━━━━━━\u001b[0m\u001b[37m\u001b[0m \u001b[1m6s\u001b[0m 5ms/step - accuracy: 0.9825 - loss: 0.0524 - val_accuracy: 0.7422 - val_loss: 1.7729\n",
            "Epoch 13/50\n",
            "\u001b[1m782/782\u001b[0m \u001b[32m━━━━━━━━━━━━━━━━━━━━\u001b[0m\u001b[37m\u001b[0m \u001b[1m5s\u001b[0m 4ms/step - accuracy: 0.9817 - loss: 0.0547 - val_accuracy: 0.7503 - val_loss: 1.8564\n",
            "Epoch 14/50\n",
            "\u001b[1m782/782\u001b[0m \u001b[32m━━━━━━━━━━━━━━━━━━━━\u001b[0m\u001b[37m\u001b[0m \u001b[1m5s\u001b[0m 4ms/step - accuracy: 0.9847 - loss: 0.0470 - val_accuracy: 0.7477 - val_loss: 1.9181\n",
            "Epoch 15/50\n",
            "\u001b[1m782/782\u001b[0m \u001b[32m━━━━━━━━━━━━━━━━━━━━\u001b[0m\u001b[37m\u001b[0m \u001b[1m5s\u001b[0m 4ms/step - accuracy: 0.9857 - loss: 0.0442 - val_accuracy: 0.7427 - val_loss: 1.9079\n",
            "Epoch 16/50\n",
            "\u001b[1m782/782\u001b[0m \u001b[32m━━━━━━━━━━━━━━━━━━━━\u001b[0m\u001b[37m\u001b[0m \u001b[1m5s\u001b[0m 4ms/step - accuracy: 0.9799 - loss: 0.0607 - val_accuracy: 0.7426 - val_loss: 1.9360\n",
            "Epoch 17/50\n",
            "\u001b[1m782/782\u001b[0m \u001b[32m━━━━━━━━━━━━━━━━━━━━\u001b[0m\u001b[37m\u001b[0m \u001b[1m5s\u001b[0m 4ms/step - accuracy: 0.9868 - loss: 0.0409 - val_accuracy: 0.7477 - val_loss: 2.0283\n",
            "Epoch 18/50\n",
            "\u001b[1m782/782\u001b[0m \u001b[32m━━━━━━━━━━━━━━━━━━━━\u001b[0m\u001b[37m\u001b[0m \u001b[1m5s\u001b[0m 4ms/step - accuracy: 0.9866 - loss: 0.0419 - val_accuracy: 0.7424 - val_loss: 2.1351\n",
            "Epoch 19/50\n",
            "\u001b[1m782/782\u001b[0m \u001b[32m━━━━━━━━━━━━━━━━━━━━\u001b[0m\u001b[37m\u001b[0m \u001b[1m3s\u001b[0m 4ms/step - accuracy: 0.9855 - loss: 0.0453 - val_accuracy: 0.7531 - val_loss: 1.9770\n",
            "Epoch 20/50\n",
            "\u001b[1m782/782\u001b[0m \u001b[32m━━━━━━━━━━━━━━━━━━━━\u001b[0m\u001b[37m\u001b[0m \u001b[1m4s\u001b[0m 4ms/step - accuracy: 0.9858 - loss: 0.0424 - val_accuracy: 0.7499 - val_loss: 2.1081\n",
            "Epoch 21/50\n",
            "\u001b[1m782/782\u001b[0m \u001b[32m━━━━━━━━━━━━━━━━━━━━\u001b[0m\u001b[37m\u001b[0m \u001b[1m3s\u001b[0m 4ms/step - accuracy: 0.9813 - loss: 0.0575 - val_accuracy: 0.7486 - val_loss: 2.1789\n",
            "Epoch 22/50\n",
            "\u001b[1m782/782\u001b[0m \u001b[32m━━━━━━━━━━━━━━━━━━━━\u001b[0m\u001b[37m\u001b[0m \u001b[1m5s\u001b[0m 4ms/step - accuracy: 0.9861 - loss: 0.0400 - val_accuracy: 0.7355 - val_loss: 2.1605\n",
            "Epoch 23/50\n",
            "\u001b[1m782/782\u001b[0m \u001b[32m━━━━━━━━━━━━━━━━━━━━\u001b[0m\u001b[37m\u001b[0m \u001b[1m5s\u001b[0m 4ms/step - accuracy: 0.9842 - loss: 0.0485 - val_accuracy: 0.7415 - val_loss: 2.2809\n",
            "Epoch 24/50\n",
            "\u001b[1m782/782\u001b[0m \u001b[32m━━━━━━━━━━━━━━━━━━━━\u001b[0m\u001b[37m\u001b[0m \u001b[1m5s\u001b[0m 4ms/step - accuracy: 0.9882 - loss: 0.0348 - val_accuracy: 0.7437 - val_loss: 2.3440\n",
            "Epoch 25/50\n",
            "\u001b[1m782/782\u001b[0m \u001b[32m━━━━━━━━━━━━━━━━━━━━\u001b[0m\u001b[37m\u001b[0m \u001b[1m6s\u001b[0m 5ms/step - accuracy: 0.9858 - loss: 0.0474 - val_accuracy: 0.7511 - val_loss: 2.2965\n",
            "Epoch 26/50\n",
            "\u001b[1m782/782\u001b[0m \u001b[32m━━━━━━━━━━━━━━━━━━━━\u001b[0m\u001b[37m\u001b[0m \u001b[1m4s\u001b[0m 4ms/step - accuracy: 0.9850 - loss: 0.0489 - val_accuracy: 0.7427 - val_loss: 2.4478\n",
            "Epoch 27/50\n",
            "\u001b[1m782/782\u001b[0m \u001b[32m━━━━━━━━━━━━━━━━━━━━\u001b[0m\u001b[37m\u001b[0m \u001b[1m3s\u001b[0m 4ms/step - accuracy: 0.9888 - loss: 0.0340 - val_accuracy: 0.7478 - val_loss: 2.4074\n",
            "Epoch 28/50\n",
            "\u001b[1m782/782\u001b[0m \u001b[32m━━━━━━━━━━━━━━━━━━━━\u001b[0m\u001b[37m\u001b[0m \u001b[1m4s\u001b[0m 5ms/step - accuracy: 0.9879 - loss: 0.0363 - val_accuracy: 0.7373 - val_loss: 2.5506\n",
            "Epoch 29/50\n",
            "\u001b[1m782/782\u001b[0m \u001b[32m━━━━━━━━━━━━━━━━━━━━\u001b[0m\u001b[37m\u001b[0m \u001b[1m3s\u001b[0m 4ms/step - accuracy: 0.9828 - loss: 0.0541 - val_accuracy: 0.7472 - val_loss: 2.4458\n",
            "Epoch 30/50\n",
            "\u001b[1m782/782\u001b[0m \u001b[32m━━━━━━━━━━━━━━━━━━━━\u001b[0m\u001b[37m\u001b[0m \u001b[1m5s\u001b[0m 4ms/step - accuracy: 0.9897 - loss: 0.0333 - val_accuracy: 0.7446 - val_loss: 2.5130\n",
            "Epoch 31/50\n",
            "\u001b[1m782/782\u001b[0m \u001b[32m━━━━━━━━━━━━━━━━━━━━\u001b[0m\u001b[37m\u001b[0m \u001b[1m3s\u001b[0m 4ms/step - accuracy: 0.9852 - loss: 0.0499 - val_accuracy: 0.7357 - val_loss: 2.5141\n",
            "Epoch 32/50\n",
            "\u001b[1m782/782\u001b[0m \u001b[32m━━━━━━━━━━━━━━━━━━━━\u001b[0m\u001b[37m\u001b[0m \u001b[1m5s\u001b[0m 4ms/step - accuracy: 0.9884 - loss: 0.0356 - val_accuracy: 0.7391 - val_loss: 2.8290\n",
            "Epoch 33/50\n",
            "\u001b[1m782/782\u001b[0m \u001b[32m━━━━━━━━━━━━━━━━━━━━\u001b[0m\u001b[37m\u001b[0m \u001b[1m3s\u001b[0m 4ms/step - accuracy: 0.9887 - loss: 0.0356 - val_accuracy: 0.7393 - val_loss: 2.5788\n",
            "Epoch 34/50\n",
            "\u001b[1m782/782\u001b[0m \u001b[32m━━━━━━━━━━━━━━━━━━━━\u001b[0m\u001b[37m\u001b[0m \u001b[1m3s\u001b[0m 4ms/step - accuracy: 0.9865 - loss: 0.0473 - val_accuracy: 0.7349 - val_loss: 2.5071\n",
            "Epoch 35/50\n",
            "\u001b[1m782/782\u001b[0m \u001b[32m━━━━━━━━━━━━━━━━━━━━\u001b[0m\u001b[37m\u001b[0m \u001b[1m4s\u001b[0m 5ms/step - accuracy: 0.9892 - loss: 0.0373 - val_accuracy: 0.7445 - val_loss: 2.5817\n",
            "Epoch 36/50\n",
            "\u001b[1m782/782\u001b[0m \u001b[32m━━━━━━━━━━━━━━━━━━━━\u001b[0m\u001b[37m\u001b[0m \u001b[1m3s\u001b[0m 4ms/step - accuracy: 0.9925 - loss: 0.0258 - val_accuracy: 0.7323 - val_loss: 2.6465\n",
            "Epoch 37/50\n",
            "\u001b[1m782/782\u001b[0m \u001b[32m━━━━━━━━━━━━━━━━━━━━\u001b[0m\u001b[37m\u001b[0m \u001b[1m3s\u001b[0m 4ms/step - accuracy: 0.9859 - loss: 0.0499 - val_accuracy: 0.7402 - val_loss: 2.7475\n",
            "Epoch 38/50\n",
            "\u001b[1m782/782\u001b[0m \u001b[32m━━━━━━━━━━━━━━━━━━━━\u001b[0m\u001b[37m\u001b[0m \u001b[1m3s\u001b[0m 4ms/step - accuracy: 0.9887 - loss: 0.0381 - val_accuracy: 0.7376 - val_loss: 2.6700\n",
            "Epoch 39/50\n",
            "\u001b[1m782/782\u001b[0m \u001b[32m━━━━━━━━━━━━━━━━━━━━\u001b[0m\u001b[37m\u001b[0m \u001b[1m5s\u001b[0m 4ms/step - accuracy: 0.9870 - loss: 0.0434 - val_accuracy: 0.7434 - val_loss: 2.7092\n",
            "Epoch 40/50\n",
            "\u001b[1m782/782\u001b[0m \u001b[32m━━━━━━━━━━━━━━━━━━━━\u001b[0m\u001b[37m\u001b[0m \u001b[1m3s\u001b[0m 4ms/step - accuracy: 0.9860 - loss: 0.0483 - val_accuracy: 0.7403 - val_loss: 2.8245\n",
            "Epoch 41/50\n",
            "\u001b[1m782/782\u001b[0m \u001b[32m━━━━━━━━━━━━━━━━━━━━\u001b[0m\u001b[37m\u001b[0m \u001b[1m3s\u001b[0m 4ms/step - accuracy: 0.9889 - loss: 0.0419 - val_accuracy: 0.7472 - val_loss: 2.7978\n",
            "Epoch 42/50\n",
            "\u001b[1m782/782\u001b[0m \u001b[32m━━━━━━━━━━━━━━━━━━━━\u001b[0m\u001b[37m\u001b[0m \u001b[1m4s\u001b[0m 5ms/step - accuracy: 0.9894 - loss: 0.0369 - val_accuracy: 0.7443 - val_loss: 2.6984\n",
            "Epoch 43/50\n",
            "\u001b[1m782/782\u001b[0m \u001b[32m━━━━━━━━━━━━━━━━━━━━\u001b[0m\u001b[37m\u001b[0m \u001b[1m5s\u001b[0m 4ms/step - accuracy: 0.9890 - loss: 0.0393 - val_accuracy: 0.7438 - val_loss: 2.9060\n",
            "Epoch 44/50\n",
            "\u001b[1m782/782\u001b[0m \u001b[32m━━━━━━━━━━━━━━━━━━━━\u001b[0m\u001b[37m\u001b[0m \u001b[1m5s\u001b[0m 4ms/step - accuracy: 0.9876 - loss: 0.0477 - val_accuracy: 0.7498 - val_loss: 2.8414\n",
            "Epoch 45/50\n",
            "\u001b[1m782/782\u001b[0m \u001b[32m━━━━━━━━━━━━━━━━━━━━\u001b[0m\u001b[37m\u001b[0m \u001b[1m5s\u001b[0m 4ms/step - accuracy: 0.9942 - loss: 0.0170 - val_accuracy: 0.7282 - val_loss: 3.0856\n",
            "Epoch 46/50\n",
            "\u001b[1m782/782\u001b[0m \u001b[32m━━━━━━━━━━━━━━━━━━━━\u001b[0m\u001b[37m\u001b[0m \u001b[1m5s\u001b[0m 4ms/step - accuracy: 0.9892 - loss: 0.0373 - val_accuracy: 0.7327 - val_loss: 3.0317\n",
            "Epoch 47/50\n",
            "\u001b[1m782/782\u001b[0m \u001b[32m━━━━━━━━━━━━━━━━━━━━\u001b[0m\u001b[37m\u001b[0m \u001b[1m5s\u001b[0m 4ms/step - accuracy: 0.9887 - loss: 0.0406 - val_accuracy: 0.7366 - val_loss: 2.9988\n",
            "Epoch 48/50\n",
            "\u001b[1m782/782\u001b[0m \u001b[32m━━━━━━━━━━━━━━━━━━━━\u001b[0m\u001b[37m\u001b[0m \u001b[1m3s\u001b[0m 4ms/step - accuracy: 0.9919 - loss: 0.0281 - val_accuracy: 0.7382 - val_loss: 3.0099\n",
            "Epoch 49/50\n",
            "\u001b[1m782/782\u001b[0m \u001b[32m━━━━━━━━━━━━━━━━━━━━\u001b[0m\u001b[37m\u001b[0m \u001b[1m3s\u001b[0m 4ms/step - accuracy: 0.9875 - loss: 0.0410 - val_accuracy: 0.7411 - val_loss: 2.9784\n",
            "Epoch 50/50\n",
            "\u001b[1m782/782\u001b[0m \u001b[32m━━━━━━━━━━━━━━━━━━━━\u001b[0m\u001b[37m\u001b[0m \u001b[1m4s\u001b[0m 5ms/step - accuracy: 0.9878 - loss: 0.0455 - val_accuracy: 0.7383 - val_loss: 3.0684\n"
          ]
        }
      ]
    },
    {
      "cell_type": "markdown",
      "source": [
        "# Why Choose Adam (Adaptive Moment Estimation):\n",
        "Adam is one of the most popular optimizers for deep learning due to its adaptive learning rates and efficient handling of sparse gradients. It combines the benefits of both Momentum and RMSProp, which helps in faster convergence.\n",
        "\n",
        "## How Adam Works:\n",
        "\n",
        "Adam maintains a separate learning rate for each parameter, adjusting the learning rate dynamically for each one based on first-order moments (mean) and second-order moments (variance).\n",
        "It is well-suited for large datasets and problems with noisy gradients (like CIFAR-10)."
      ],
      "metadata": {
        "id": "xBZEPX-UgWL5"
      }
    },
    {
      "cell_type": "markdown",
      "source": [
        "The choice of optimizer and learning rate directly affects the speed and stability of the network's convergence. Optimizers like Adam adapt the learning rate during training, making them more efficient and robust in handling complex problems. A learning rate that's too high can cause the model to overshoot minima and fail to converge, while a rate that's too low results in slow learning. If the model isn't converging, reducing the learning rate can help by allowing the model to make more precise updates to the weights, leading to smoother convergence. Gradual learning rate decay is often used to fine-tune this process."
      ],
      "metadata": {
        "id": "jJCyQ0QzgrGJ"
      }
    },
    {
      "cell_type": "code",
      "source": [
        "from tensorflow.keras.optimizers import Adam\n",
        "\n",
        "# Compile the model\n",
        "model.compile(optimizer=Adam(),\n",
        "              loss='categorical_crossentropy',\n",
        "              metrics=['accuracy'])\n",
        "\n",
        "# Optionally, you can plot the training and validation accuracy\n",
        "import matplotlib.pyplot as plt\n",
        "\n",
        "# Plot training & validation accuracy\n",
        "plt.plot(history.history['accuracy'], label='Training Accuracy')\n",
        "plt.plot(history.history['val_accuracy'], label='Validation Accuracy')\n",
        "plt.title('Model Accuracy')\n",
        "plt.xlabel('Epochs')\n",
        "plt.ylabel('Accuracy')\n",
        "plt.legend(loc='lower right')\n",
        "plt.show()\n"
      ],
      "metadata": {
        "colab": {
          "base_uri": "https://localhost:8080/",
          "height": 472
        },
        "id": "S1gYF-SvgbAf",
        "outputId": "24371a57-ffc2-4bad-b95d-1e3fc2463611"
      },
      "execution_count": 7,
      "outputs": [
        {
          "output_type": "display_data",
          "data": {
            "text/plain": [
              "<Figure size 640x480 with 1 Axes>"
            ],
            "image/png": "[encoded data removed]"
          },
          "metadata": {}
        }
      ]
    },
    {
      "cell_type": "markdown",
      "source": [
        "## Back Propagation\n",
        "Backpropagation updates the weights in each layer by calculating the gradient of the loss function with respect to each weight. It starts by computing the error at the output layer, then propagates this error backward through the network, layer by layer, using the chain rule of calculus to find how much each weight contributed to the error. This process generates the gradients (partial derivatives), which indicate the direction and magnitude of change needed for each weight to reduce the overall loss.\n",
        "\n",
        "## Learning Rate\n",
        "The learning rate controls how much the weights are adjusted based on these gradients. A larger learning rate makes bigger changes to the weights in each update, which can speed up learning but risks overshooting the optimal point. A smaller learning rate makes smaller, more precise updates, reducing the chance of overshooting but potentially slowing down convergence. The learning rate thus plays a crucial role in balancing speed and stability during the training process."
      ],
      "metadata": {
        "id": "Sb_YCcmJhtmV"
      }
    },
    {
      "cell_type": "code",
      "source": [
        "from sklearn.metrics import classification_report, confusion_matrix\n",
        "import numpy as np\n",
        "\n",
        "# Evaluate the model on the test set\n",
        "test_loss, test_accuracy = model.evaluate(x_test, y_test)\n",
        "print(f\"Test Accuracy: {test_accuracy}\")\n",
        "\n",
        "# Get predictions for the test set\n",
        "y_pred = model.predict(x_test)\n",
        "\n",
        "# Convert predictions and true labels from one-hot encoded to class labels\n",
        "y_pred_classes = np.argmax(y_pred, axis=1)\n",
        "y_true = np.argmax(y_test, axis=1)\n",
        "\n",
        "# Calculate precision, recall, F1-score, and the confusion matrix\n",
        "print(\"Classification Report:\")\n",
        "print(classification_report(y_true, y_pred_classes))\n",
        "\n",
        "# Confusion matrix\n",
        "conf_matrix = confusion_matrix(y_true, y_pred_classes)\n",
        "print(\"Confusion Matrix:\")\n",
        "print(conf_matrix)"
      ],
      "metadata": {
        "colab": {
          "base_uri": "https://localhost:8080/"
        },
        "id": "GAgKFKeFhsNL",
        "outputId": "e9cb4c9d-00ac-4282-90b3-cc0ef14c5bca"
      },
      "execution_count": 8,
      "outputs": [
        {
          "output_type": "stream",
          "name": "stdout",
          "text": [
            "\u001b[1m313/313\u001b[0m \u001b[32m━━━━━━━━━━━━━━━━━━━━\u001b[0m\u001b[37m\u001b[0m \u001b[1m3s\u001b[0m 4ms/step - accuracy: 0.7454 - loss: 3.5249\n",
            "Test Accuracy: 0.748199999332428\n",
            "\u001b[1m313/313\u001b[0m \u001b[32m━━━━━━━━━━━━━━━━━━━━\u001b[0m\u001b[37m\u001b[0m \u001b[1m1s\u001b[0m 2ms/step\n",
            "Classification Report:\n",
            "              precision    recall  f1-score   support\n",
            "\n",
            "           0       0.79      0.80      0.79      1000\n",
            "           1       0.85      0.86      0.85      1000\n",
            "           2       0.66      0.65      0.65      1000\n",
            "           3       0.58      0.52      0.55      1000\n",
            "           4       0.68      0.73      0.71      1000\n",
            "           5       0.64      0.65      0.65      1000\n",
            "           6       0.81      0.80      0.80      1000\n",
            "           7       0.77      0.80      0.78      1000\n",
            "           8       0.84      0.87      0.85      1000\n",
            "           9       0.85      0.80      0.83      1000\n",
            "\n",
            "    accuracy                           0.75     10000\n",
            "   macro avg       0.75      0.75      0.75     10000\n",
            "weighted avg       0.75      0.75      0.75     10000\n",
            "\n",
            "Confusion Matrix:\n",
            "[[795  12  52  11  32  12   9  14  50  13]\n",
            " [ 11 859   8   7   4   9   9   5  19  69]\n",
            " [ 50   3 649  63  80  49  50  31  18   7]\n",
            " [ 29  10  67 520  75 156  60  59  13  11]\n",
            " [ 11   2  74  44 735  35  31  55   9   4]\n",
            " [ 17   2  49 142  49 651  21  43  16  10]\n",
            " [ 11   5  42  45  33  32 801  10  18   3]\n",
            " [ 10   1  23  34  59  53   7 796   9   8]\n",
            " [ 38  25   9  12   6  10   5   3 872  20]\n",
            " [ 30  91  12  14   6   9   2  15  17 804]]\n"
          ]
        }
      ]
    },
    {
      "cell_type": "markdown",
      "source": [
        "# Question:\n",
        "### How can you further improve model performance if the accuracy is low?\n",
        "To improve model performance if the accuracy is unsatisfactory, several strategies can be employed, including data augmentation techniques that introduce variability by applying transformations such as flips, rotations, and shifts to the training images, which helps the model generalize better. Implementing regularization methods like dropout can prevent overfitting by randomly disabling neurons during training, while increasing model complexity through deeper architectures or more neurons can enhance feature extraction capabilities. Additionally, hyperparameter tuning, such as adjusting the learning rate or batch size, along with training for more epochs, can lead to better convergence. Finally, leveraging transfer learning by fine-tuning pre-trained models on similar datasets can significantly enhance performance by utilizing learned features from larger datasets."
      ],
      "metadata": {
        "id": "EwEBnUvfizYg"
      }
    },
    {
      "cell_type": "markdown",
      "source": [
        "# Optimization strategies\n",
        "\n",
        "## Early Stopping:\n",
        " This technique monitors validation performance during training, halting the process when validation loss increases or accuracy plateaus, preventing overfitting and saving computational resources.\n",
        "\n",
        "## Learning Rate Scheduling:\n",
        " This approach adjusts the learning rate throughout training, starting high for larger weight updates and decreasing it later for finer adjustments. This facilitates smoother convergence and reduces the risk of overshooting the optimal solution.\n",
        "\n",
        "## Weight Initialization Techniques:\n",
        " Proper initialization, such as Xavier or He initialization, sets initial weights based on input and output units, maintaining healthy activation variance and preventing vanishing or exploding gradients. Effective weight initialization accelerates convergence and enhances learning.\n",
        "\n",
        "Implementing these strategies can lead to m"
      ],
      "metadata": {
        "id": "eabWtheU1Hsk"
      }
    },
    {
      "cell_type": "markdown",
      "source": [
        "# Challenges faced\n",
        "\n",
        "### Overfitting:\n",
        "Initially, the model showed signs of overfitting with high training accuracy but poor validation performance.\n",
        "Implemented early stopping and dropout layers to reduce overfitting.\n",
        "\n",
        "### Learning Rate Tuning:\n",
        "The initial learning rate resulted in unstable training.\n",
        "Solution: Adjusted the learning rate and employed learning rate scheduling to stabilize convergence.\n",
        "\n",
        "### Class Imbalance:\n",
        "Some classes had fewer samples than others.\n",
        "Solution: Used data augmentation techniques to create synthetic samples, thus balancing the dataset."
      ],
      "metadata": {
        "id": "1RpPlF1s4S8L"
      }
    },
    {
      "cell_type": "code",
      "source": [],
      "metadata": {
        "id": "mWTpJHoSjBa4"
      },
      "execution_count": null,
      "outputs": []
    }
  ]
}