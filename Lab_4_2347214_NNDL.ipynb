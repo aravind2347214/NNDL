{
  "nbformat": 4,
  "nbformat_minor": 0,
  "metadata": {
    "colab": {
      "provenance": []
    },
    "kernelspec": {
      "name": "python3",
      "display_name": "Python 3"
    },
    "language_info": {
      "name": "python"
    }
  },
  "cells": [
    {
      "cell_type": "markdown",
      "source": [
        "Objective:\n",
        "Implement a Radial Basis Function (RBF) Network to classify ancient Japanese  characters from the Kuzushiji dataset.\n",
        "\n"
      ],
      "metadata": {
        "id": "LWb-8WQ5rqk5"
      }
    },
    {
      "cell_type": "markdown",
      "source": [
        "Data Preparation: o Load the Kuzushiji dataset from the provided link. o Preprocess the data by normalizing the pixel values between 0 and 1. o Split the dataset into training (80%) and testing (20%) sets."
      ],
      "metadata": {
        "id": "A6xkWZPVrs51"
      }
    },
    {
      "cell_type": "code",
      "source": [
        "import tensorflow as tf\n",
        "from sklearn.model_selection import train_test_split\n",
        "import numpy as np\n",
        "\n",
        "# Load MNIST dataset\n",
        "(X_train, y_train), (X_test, y_test) = tf.keras.datasets.mnist.load_data()"
      ],
      "metadata": {
        "id": "1xvyckceCrmE",
        "colab": {
          "base_uri": "https://localhost:8080/"
        },
        "outputId": "1bcfc0a4-0da2-4d19-baed-4490b7b9fc89"
      },
      "execution_count": 1,
      "outputs": [
        {
          "output_type": "stream",
          "name": "stdout",
          "text": [
            "Downloading data from https://storage.googleapis.com/tensorflow/tf-keras-datasets/mnist.npz\n",
            "\u001b[1m11490434/11490434\u001b[0m \u001b[32m━━━━━━━━━━━━━━━━━━━━\u001b[0m\u001b[37m\u001b[0m \u001b[1m0s\u001b[0m 0us/step\n"
          ]
        }
      ]
    },
    {
      "cell_type": "markdown",
      "source": [
        "Radial Basis Function (RBF) Network:\n",
        "o Implement an RBF network using a Gaussian basis function.\n",
        "o Define the architecture:\n",
        "▪ Input layer: 28x28 (784 features for each image).\n",
        "▪ Hidden layer: RBF units with a Gaussian function.\n",
        "▪ Output layer: Softmax activation to classify the character labels\n",
        "(10 classes).\n"
      ],
      "metadata": {
        "id": "UPfsTDUgrzKO"
      }
    },
    {
      "cell_type": "code",
      "source": [
        "import tensorflow as tf\n",
        "from sklearn.model_selection import train_test_split\n",
        "import numpy as np\n",
        "\n",
        "# Load MNIST dataset\n",
        "(X_train_full, y_train_full), (X_test, y_test) = tf.keras.datasets.mnist.load_data()\n",
        "\n",
        "# Normalize pixel values between 0 and 1\n",
        "X_train_full = X_train_full.astype('float32') / 255\n",
        "X_test = X_test.astype('float32') / 255\n",
        "\n",
        "# Further split the training set into train and validation sets (e.g., 80% train, 20% validation)\n",
        "X_train, X_val, y_train, y_val = train_test_split(X_train_full, y_train_full, test_size=0.2, random_state=42)\n",
        "\n",
        "# Print the shapes of the datasets\n",
        "print(f\"Training set: {X_train.shape}, {y_train.shape}\")\n",
        "print(f\"Validation set: {X_val.shape}, {y_val.shape}\")\n",
        "print(f\"Test set: {X_test.shape}, {y_test.shape}\")\n"
      ],
      "metadata": {
        "colab": {
          "base_uri": "https://localhost:8080/"
        },
        "id": "a__zGoU_Dhtf",
        "outputId": "945c4e2e-cf19-4e8d-e1da-7df361c16858"
      },
      "execution_count": 2,
      "outputs": [
        {
          "output_type": "stream",
          "name": "stdout",
          "text": [
            "Training set: (48000, 28, 28), (48000,)\n",
            "Validation set: (12000, 28, 28), (12000,)\n",
            "Test set: (10000, 28, 28), (10000,)\n"
          ]
        }
      ]
    },
    {
      "cell_type": "markdown",
      "source": [
        "\n",
        "3. Training:\n",
        "o Use K-means clustering to determine the centers of the RBF units. o Implement gradient descent to optimize the network's weights.\n",
        "o Train the network on the training set with a learning rate of 0.01 for 100  epochs.\n",
        "\n",
        "\n",
        "Training:\n",
        "o Use K-means clustering to determine the centers of the RBF units.\n",
        "o Implement gradient descent to optimize the network's weights.\n",
        "o Train the network on the training set with a learning rate of 0.01 for 100\n",
        "epochs."
      ],
      "metadata": {
        "id": "JydkZWT7sVYX"
      }
    },
    {
      "cell_type": "markdown",
      "source": [],
      "metadata": {
        "id": "pWZCeVGbDhJu"
      }
    },
    {
      "cell_type": "code",
      "source": [
        "import numpy as np\n",
        "import tensorflow as tf\n",
        "from sklearn.cluster import KMeans\n",
        "from sklearn.metrics import accuracy_score\n",
        "from sklearn.model_selection import train_test_split\n",
        "from tensorflow.keras.utils import to_categorical\n",
        "\n",
        "# Gaussian RBF function\n",
        "def rbf(X, centers, gamma=1.0):\n",
        "    # Compute the radial basis function\n",
        "    diff = X[:, np.newaxis, :] - centers[np.newaxis, :, :]\n",
        "    return np.exp(-gamma * np.sum(diff**2, axis=2))\n",
        "\n",
        "# Define the RBF Network\n",
        "class RBFNetwork:\n",
        "    def __init__(self, n_centers, input_dim, output_dim, gamma=1.0):\n",
        "        self.n_centers = n_centers\n",
        "        self.gamma = gamma\n",
        "\n",
        "        # Initialize weights for the output layer\n",
        "        self.weights = np.random.randn(n_centers, output_dim)\n",
        "        self.centers = None  # To be set during training\n",
        "\n",
        "    def fit(self, X, y, epochs=100, learning_rate=0.01):  # Set epochs to 100\n",
        "        # Use K-means to find RBF centers\n",
        "        kmeans = KMeans(n_clusters=self.n_centers, random_state=0).fit(X)\n",
        "        self.centers = kmeans.cluster_centers_\n",
        "\n",
        "        # One-hot encode the labels\n",
        "        y_onehot = to_categorical(y, num_classes=10)\n",
        "\n",
        "        # Training loop (Gradient Descent)\n",
        "        for epoch in range(epochs):\n",
        "            # Compute the RBF output for all samples\n",
        "            rbf_output = rbf(X, self.centers, self.gamma)\n",
        "\n",
        "            # Predicted output using current weights\n",
        "            predictions = rbf_output.dot(self.weights)\n",
        "            softmax_output = tf.nn.softmax(predictions)\n",
        "\n",
        "            # Compute the error (cross-entropy loss)\n",
        "            error = softmax_output - y_onehot\n",
        "\n",
        "            # Gradient update\n",
        "            gradient = rbf_output.T.dot(error) / X.shape[0]\n",
        "            self.weights -= learning_rate * gradient\n",
        "\n",
        "            # Log the training loss every epoch\n",
        "            loss = -np.sum(y_onehot * np.log(softmax_output + 1e-10))  # Small epsilon to prevent log(0)\n",
        "            if (epoch + 1) % 10 == 0:\n",
        "                print(f\"Epoch {epoch + 1}/{epochs} - Loss: {loss:.4f}\")\n",
        "\n",
        "    def predict(self, X):\n",
        "        # Compute the RBF output for all samples\n",
        "        rbf_output = rbf(X, self.centers, self.gamma)\n",
        "\n",
        "        # Predict class labels\n",
        "        predictions = rbf_output.dot(self.weights)\n",
        "        softmax_output = tf.nn.softmax(predictions)\n",
        "        return np.argmax(softmax_output, axis=1)\n",
        "\n",
        "# Load MNIST dataset\n",
        "(X_train_full, y_train_full), (X_test, y_test) = tf.keras.datasets.mnist.load_data()\n",
        "\n",
        "# Flatten the images to 784-dimensional vectors\n",
        "X_train_full = X_train_full.reshape(-1, 28*28)\n",
        "X_test = X_test.reshape(-1, 28*28)\n",
        "\n",
        "# Normalize the pixel values between 0 and 1\n",
        "X_train_full = X_train_full.astype('float32') / 255\n",
        "X_test = X_test.astype('float32') / 255\n",
        "\n",
        "# Split training set into training and validation sets\n",
        "X_train, X_val, y_train, y_val = train_test_split(X_train_full, y_train_full, test_size=0.2, random_state=42)\n",
        "\n",
        "# Initialize and train the RBF network\n",
        "n_centers = 10  # Number of RBF units\n",
        "rbf_net = RBFNetwork(n_centers=n_centers, input_dim=784, output_dim=10, gamma=0.01)\n",
        "rbf_net.fit(X_train, y_train, epochs=100, learning_rate=0.01)  # Train for 100 epochs\n",
        "\n",
        "# Predict on the test set\n",
        "y_pred = rbf_net.predict(X_test)\n",
        "\n",
        "# Evaluate accuracy\n",
        "accuracy = accuracy_score(y_test, y_pred)\n",
        "print(f\"Test accuracy: {accuracy:.4f}\")\n"
      ],
      "metadata": {
        "colab": {
          "base_uri": "https://localhost:8080/"
        },
        "id": "9LBCd3JKKVw3",
        "outputId": "e20b794d-f33e-48ba-e0bc-c29377b70bf2"
      },
      "execution_count": 3,
      "outputs": [
        {
          "output_type": "stream",
          "name": "stdout",
          "text": [
            "Epoch 10/100 - Loss: 164197.5644\n",
            "Epoch 20/100 - Loss: 161854.8205\n",
            "Epoch 30/100 - Loss: 159678.2448\n",
            "Epoch 40/100 - Loss: 157646.4103\n",
            "Epoch 50/100 - Loss: 155741.3308\n",
            "Epoch 60/100 - Loss: 153947.9408\n",
            "Epoch 70/100 - Loss: 152253.6235\n",
            "Epoch 80/100 - Loss: 150647.7991\n",
            "Epoch 90/100 - Loss: 149121.5729\n",
            "Epoch 100/100 - Loss: 147667.4389\n",
            "Test accuracy: 0.1013\n"
          ]
        }
      ]
    },
    {
      "cell_type": "markdown",
      "source": [
        "#  4. Evaluation:\n",
        "o Evaluate the model on the test set using accuracy and confusion matrix.\n",
        "o Visualize the performance evaluation metrics"
      ],
      "metadata": {
        "id": "urcX7rJ5sqNX"
      }
    },
    {
      "cell_type": "code",
      "source": [
        "\n",
        "\n",
        "from sklearn.metrics import confusion_matrix\n",
        "import matplotlib.pyplot as plt\n",
        "import seaborn as sns\n",
        "\n",
        "\n",
        "# Evaluate accuracy\n",
        "accuracy = accuracy_score(y_test, y_pred)\n",
        "print(f\"Test accuracy: {accuracy:.4f}\")\n",
        "\n",
        "# Generate the confusion matrix\n",
        "cm = confusion_matrix(y_test, y_pred)\n",
        "\n",
        "# Visualize the confusion matrix using Seaborn\n",
        "plt.figure(figsize=(10, 8))\n",
        "sns.heatmap(cm, annot=True, fmt='d', cmap='Blues', xticklabels=range(10), yticklabels=range(10))\n",
        "plt.xlabel('Predicted Label')\n",
        "plt.ylabel('True Label')\n",
        "plt.title('Confusion Matrix')\n",
        "plt.show()\n"
      ],
      "metadata": {
        "colab": {
          "base_uri": "https://localhost:8080/",
          "height": 735
        },
        "id": "PtFMoOopM3LS",
        "outputId": "8e448714-5039-47a0-dfa6-aaba4a5fc697"
      },
      "execution_count": 4,
      "outputs": [
        {
          "output_type": "stream",
          "name": "stdout",
          "text": [
            "Test accuracy: 0.1013\n"
          ]
        },
        {
          "output_type": "display_data",
          "data": {
            "text/plain": [
              "<Figure size 1000x800 with 2 Axes>"
            ],
            "image/png": "[encoded data removed]"
          },
          "metadata": {}
        }
      ]
    },
    {
      "cell_type": "markdown",
      "source": [
        "# Interpretation\n",
        "\n",
        "Analysis of Using an RBF Network on the MNIST Dataset\n",
        "Strengths of Using an RBF (Radial Basis Function) Network:\n",
        "\n",
        "Non-Linear Decision Boundaries: RBF networks are well-suited for tasks requiring complex decision boundaries, like digit recognition, as they can approximate non-linear functions.\n",
        "Localized Neurons: RBF units act on localized regions of the input space, which can help in handling complex variations in the MNIST images (such as different handwriting styles).\n",
        "Smooth Interpolation: The smooth interpolation nature of RBF makes it effective in scenarios where data points cluster in localized regions.\n",
        "Fewer Tuning Parameters: RBF networks require fewer hyperparameters to tune compared to deep networks, as they are typically single-hidden-layer networks.\n",
        "\n",
        "\n",
        "\n",
        "Limitations:\n",
        "\n",
        "Scalability: The MNIST dataset is large (60,000 images for training and 10,000 for testing). RBF networks scale poorly with the size of the dataset because adding more RBF units increases the computational cost, especially for large input dimensions like 28x28 pixel images.\n",
        "Memory and Computation: Each RBF unit corresponds to a training point, making it memory-intensive. For a large dataset like MNIST, storing a huge number of radial basis functions could be inefficient.\n",
        "Model Generalization: RBF networks can struggle to generalize if not enough RBF units are used, as the network can overfit to training data. This is especially problematic for datasets like MNIST with high variation between input instances.\n",
        "Difficulty in Tuning Centers and Widths: The choice of centers (i.e., prototypes) and widths (spread) for RBF units is critical but non-trivial. Poor selection can lead to suboptimal performance.\n",
        "\n",
        "\n",
        "\n",
        "\n",
        "Effect of RBF Units on Performance\n",
        "Too Few: Leads to underfitting, high error, and poor accuracy.\n",
        "Optimal Number: Balances complexity, improving generalization and accuracy.\n",
        "Too Many: Causes overfitting, with memorization of training data and poor test accuracy."
      ],
      "metadata": {
        "id": "U2FG1w9Fsvx2"
      }
    }
  ]
}